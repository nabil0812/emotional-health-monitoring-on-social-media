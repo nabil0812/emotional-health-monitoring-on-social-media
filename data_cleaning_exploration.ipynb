{
 "cells": [
  {
   "cell_type": "markdown",
   "metadata": {
    "id": "QUv-qL5aTlN_"
   },
   "source": [
    "# Data Cleaning"
   ]
  },
  {
   "cell_type": "code",
   "execution_count": 1,
   "metadata": {
    "colab": {
     "base_uri": "https://localhost:8080/"
    },
    "id": "NuVz70ByXMd1",
    "outputId": "e874f909-ce9d-4784-9e13-cbaaf892f82b"
   },
   "outputs": [
    {
     "name": "stderr",
     "output_type": "stream",
     "text": [
      "[nltk_data] Downloading package stopwords to\n",
      "[nltk_data]     C:\\Users\\HP\\AppData\\Roaming\\nltk_data...\n",
      "[nltk_data]   Package stopwords is already up-to-date!\n",
      "[nltk_data] Downloading package punkt to\n",
      "[nltk_data]     C:\\Users\\HP\\AppData\\Roaming\\nltk_data...\n",
      "[nltk_data]   Package punkt is already up-to-date!\n",
      "[nltk_data] Downloading package wordnet to\n",
      "[nltk_data]     C:\\Users\\HP\\AppData\\Roaming\\nltk_data...\n",
      "[nltk_data]   Package wordnet is already up-to-date!\n",
      "[nltk_data] Downloading package averaged_perceptron_tagger to\n",
      "[nltk_data]     C:\\Users\\HP\\AppData\\Roaming\\nltk_data...\n",
      "[nltk_data]   Package averaged_perceptron_tagger is already up-to-\n",
      "[nltk_data]       date!\n"
     ]
    }
   ],
   "source": [
    "## Import required libraries\n",
    "\n",
    "## warnings\n",
    "import warnings\n",
    "warnings.filterwarnings(\"ignore\")\n",
    "\n",
    "## for data\n",
    "import numpy as np\n",
    "import pandas as pd\n",
    "\n",
    "## for plotting\n",
    "import matplotlib.pyplot as plt\n",
    "import seaborn as sns\n",
    "\n",
    "## for processing\n",
    "import nltk\n",
    "import re\n",
    "import ftfy\n",
    "from nltk.stem import WordNetLemmatizer \n",
    "from nltk.corpus import stopwords\n",
    "nltk.download('stopwords')\n",
    "nltk.download('punkt')\n",
    "nltk.download('wordnet')\n",
    "nltk.download('averaged_perceptron_tagger')\n",
    "\n",
    "## for opening, manipulating, and saving many different image file f\n",
    "from PIL import Image \n",
    "\n",
    "## WordCloud - Python linrary for creating image wordclouds\n",
    "from wordcloud import WordCloud\n",
    "from nltk import pos_tag ## For Parts of Speech tagging\n",
    "import random ## generating random numbers"
   ]
  },
  {
   "cell_type": "markdown",
   "metadata": {
    "id": "U4ab5ve6W5YX"
   },
   "source": [
    "## Load the datasets"
   ]
  },
  {
   "cell_type": "code",
   "execution_count": 2,
   "metadata": {
    "id": "bcTpVkZnTa_S"
   },
   "outputs": [],
   "source": [
    "data1 = \"C:\\\\Users\\\\HP\\\\OneDrive\\\\Documents\\\\emotional health monitoring on social media\\\\data\\\\raw\\\\scrapped\\\\depressive_tweets.csv\"\n",
    "depressive_tweets_df = pd.read_csv(data1)\n"
   ]
  },
  {
   "cell_type": "code",
   "execution_count": 3,
   "metadata": {},
   "outputs": [],
   "source": [
    "data2 = \"C:\\\\Users\\\\HP\\\\OneDrive\\\\Documents\\\\emotional health monitoring on social media\\\\data\\\\raw\\\\scrapped\\\\external\\\\Sentiment_Analysis_Dataset_2.csv\"\n",
    "random_tweets_df = pd.read_csv(data2, encoding = \"ISO-8859-1\", usecols = range(0,4), nrows = 40000)"
   ]
  },
  {
   "cell_type": "code",
   "execution_count": 4,
   "metadata": {
    "colab": {
     "base_uri": "https://localhost:8080/",
     "height": 597
    },
    "id": "-TCfMO6RnZsu",
    "outputId": "2d6df698-6f10-4bd2-b799-d0e3b505320f"
   },
   "outputs": [
    {
     "data": {
      "text/html": [
       "<div>\n",
       "<style scoped>\n",
       "    .dataframe tbody tr th:only-of-type {\n",
       "        vertical-align: middle;\n",
       "    }\n",
       "\n",
       "    .dataframe tbody tr th {\n",
       "        vertical-align: top;\n",
       "    }\n",
       "\n",
       "    .dataframe thead th {\n",
       "        text-align: right;\n",
       "    }\n",
       "</style>\n",
       "<table border=\"1\" class=\"dataframe\">\n",
       "  <thead>\n",
       "    <tr style=\"text-align: right;\">\n",
       "      <th></th>\n",
       "      <th>Unnamed: 0</th>\n",
       "      <th>tweet.id</th>\n",
       "      <th>created_at</th>\n",
       "      <th>text</th>\n",
       "      <th>location</th>\n",
       "      <th>retweet</th>\n",
       "      <th>favorite</th>\n",
       "    </tr>\n",
       "  </thead>\n",
       "  <tbody>\n",
       "    <tr>\n",
       "      <th>0</th>\n",
       "      <td>0</td>\n",
       "      <td>1447537898572574730</td>\n",
       "      <td>2021-10-11 12:21:43</td>\n",
       "      <td>Open discussion. Between the Transfer Portal a...</td>\n",
       "      <td>Cheyenne Wyoming</td>\n",
       "      <td>0</td>\n",
       "      <td>0</td>\n",
       "    </tr>\n",
       "    <tr>\n",
       "      <th>1</th>\n",
       "      <td>1</td>\n",
       "      <td>1447540582490988553</td>\n",
       "      <td>2021-10-11 12:32:23</td>\n",
       "      <td>Plenty of things are changing in my life and t...</td>\n",
       "      <td>NaN</td>\n",
       "      <td>0</td>\n",
       "      <td>0</td>\n",
       "    </tr>\n",
       "    <tr>\n",
       "      <th>2</th>\n",
       "      <td>2</td>\n",
       "      <td>1447807717859491842</td>\n",
       "      <td>2021-10-12 06:13:53</td>\n",
       "      <td>I feel a little hopeless. Anyone else? #hopele...</td>\n",
       "      <td>NaN</td>\n",
       "      <td>0</td>\n",
       "      <td>0</td>\n",
       "    </tr>\n",
       "    <tr>\n",
       "      <th>3</th>\n",
       "      <td>3</td>\n",
       "      <td>1448076026219692033</td>\n",
       "      <td>2021-10-13 00:00:03</td>\n",
       "      <td>Which is more healthy? Hope, or hopelessness? ...</td>\n",
       "      <td>Denver, CO</td>\n",
       "      <td>0</td>\n",
       "      <td>0</td>\n",
       "    </tr>\n",
       "    <tr>\n",
       "      <th>4</th>\n",
       "      <td>4</td>\n",
       "      <td>1448382047375040513</td>\n",
       "      <td>2021-10-13 20:16:04</td>\n",
       "      <td>So someone tell me how do I get over #HOPELESS...</td>\n",
       "      <td>Portland Or .</td>\n",
       "      <td>0</td>\n",
       "      <td>2</td>\n",
       "    </tr>\n",
       "    <tr>\n",
       "      <th>...</th>\n",
       "      <td>...</td>\n",
       "      <td>...</td>\n",
       "      <td>...</td>\n",
       "      <td>...</td>\n",
       "      <td>...</td>\n",
       "      <td>...</td>\n",
       "      <td>...</td>\n",
       "    </tr>\n",
       "    <tr>\n",
       "      <th>24142</th>\n",
       "      <td>24142</td>\n",
       "      <td>1459521498842992642</td>\n",
       "      <td>2021-11-13 14:00:16</td>\n",
       "      <td>Just got banned from a server F #sad</td>\n",
       "      <td>Jakarta Capital Region</td>\n",
       "      <td>0</td>\n",
       "      <td>1</td>\n",
       "    </tr>\n",
       "    <tr>\n",
       "      <th>24143</th>\n",
       "      <td>24143</td>\n",
       "      <td>1459521611997003777</td>\n",
       "      <td>2021-11-13 14:00:43</td>\n",
       "      <td>I literally cried during my exam and the cam i...</td>\n",
       "      <td>بيت أمك</td>\n",
       "      <td>0</td>\n",
       "      <td>0</td>\n",
       "    </tr>\n",
       "    <tr>\n",
       "      <th>24144</th>\n",
       "      <td>24144</td>\n",
       "      <td>1459524263946326017</td>\n",
       "      <td>2021-11-13 14:11:15</td>\n",
       "      <td>No one can be happy with a guy like me. That's...</td>\n",
       "      <td>Varanasi, Uttar Pradesh, India</td>\n",
       "      <td>0</td>\n",
       "      <td>0</td>\n",
       "    </tr>\n",
       "    <tr>\n",
       "      <th>24145</th>\n",
       "      <td>24145</td>\n",
       "      <td>1459530315437785095</td>\n",
       "      <td>2021-11-13 14:35:18</td>\n",
       "      <td>arrived at my house but Am I Home? #deep #sad ...</td>\n",
       "      <td>they19sea</td>\n",
       "      <td>1</td>\n",
       "      <td>3</td>\n",
       "    </tr>\n",
       "    <tr>\n",
       "      <th>24146</th>\n",
       "      <td>24146</td>\n",
       "      <td>1459530643591905284</td>\n",
       "      <td>2021-11-13 14:36:36</td>\n",
       "      <td>Being spoken down to rn at @starbucks and reme...</td>\n",
       "      <td>Night Vale, USA</td>\n",
       "      <td>0</td>\n",
       "      <td>0</td>\n",
       "    </tr>\n",
       "  </tbody>\n",
       "</table>\n",
       "<p>24147 rows × 7 columns</p>\n",
       "</div>"
      ],
      "text/plain": [
       "       Unnamed: 0             tweet.id           created_at  \\\n",
       "0               0  1447537898572574730  2021-10-11 12:21:43   \n",
       "1               1  1447540582490988553  2021-10-11 12:32:23   \n",
       "2               2  1447807717859491842  2021-10-12 06:13:53   \n",
       "3               3  1448076026219692033  2021-10-13 00:00:03   \n",
       "4               4  1448382047375040513  2021-10-13 20:16:04   \n",
       "...           ...                  ...                  ...   \n",
       "24142       24142  1459521498842992642  2021-11-13 14:00:16   \n",
       "24143       24143  1459521611997003777  2021-11-13 14:00:43   \n",
       "24144       24144  1459524263946326017  2021-11-13 14:11:15   \n",
       "24145       24145  1459530315437785095  2021-11-13 14:35:18   \n",
       "24146       24146  1459530643591905284  2021-11-13 14:36:36   \n",
       "\n",
       "                                                    text  \\\n",
       "0      Open discussion. Between the Transfer Portal a...   \n",
       "1      Plenty of things are changing in my life and t...   \n",
       "2      I feel a little hopeless. Anyone else? #hopele...   \n",
       "3      Which is more healthy? Hope, or hopelessness? ...   \n",
       "4      So someone tell me how do I get over #HOPELESS...   \n",
       "...                                                  ...   \n",
       "24142               Just got banned from a server F #sad   \n",
       "24143  I literally cried during my exam and the cam i...   \n",
       "24144  No one can be happy with a guy like me. That's...   \n",
       "24145  arrived at my house but Am I Home? #deep #sad ...   \n",
       "24146  Being spoken down to rn at @starbucks and reme...   \n",
       "\n",
       "                             location  retweet  favorite  \n",
       "0                    Cheyenne Wyoming        0         0  \n",
       "1                                 NaN        0         0  \n",
       "2                                 NaN        0         0  \n",
       "3                          Denver, CO        0         0  \n",
       "4                      Portland Or .         0         2  \n",
       "...                               ...      ...       ...  \n",
       "24142          Jakarta Capital Region        0         1  \n",
       "24143                         بيت أمك        0         0  \n",
       "24144  Varanasi, Uttar Pradesh, India        0         0  \n",
       "24145                       they19sea        1         3  \n",
       "24146                 Night Vale, USA        0         0  \n",
       "\n",
       "[24147 rows x 7 columns]"
      ]
     },
     "execution_count": 4,
     "metadata": {},
     "output_type": "execute_result"
    }
   ],
   "source": [
    "depressive_tweets_df"
   ]
  },
  {
   "cell_type": "code",
   "execution_count": 5,
   "metadata": {
    "colab": {
     "base_uri": "https://localhost:8080/",
     "height": 414
    },
    "id": "W4mCUxdVtjWv",
    "outputId": "c4c2f790-7054-4d30-bb90-54b18bdf9baa"
   },
   "outputs": [
    {
     "data": {
      "text/html": [
       "<div>\n",
       "<style scoped>\n",
       "    .dataframe tbody tr th:only-of-type {\n",
       "        vertical-align: middle;\n",
       "    }\n",
       "\n",
       "    .dataframe tbody tr th {\n",
       "        vertical-align: top;\n",
       "    }\n",
       "\n",
       "    .dataframe thead th {\n",
       "        text-align: right;\n",
       "    }\n",
       "</style>\n",
       "<table border=\"1\" class=\"dataframe\">\n",
       "  <thead>\n",
       "    <tr style=\"text-align: right;\">\n",
       "      <th></th>\n",
       "      <th>ï»¿ItemID</th>\n",
       "      <th>Sentiment</th>\n",
       "      <th>SentimentSource</th>\n",
       "      <th>SentimentText</th>\n",
       "    </tr>\n",
       "  </thead>\n",
       "  <tbody>\n",
       "    <tr>\n",
       "      <th>0</th>\n",
       "      <td>1</td>\n",
       "      <td>0</td>\n",
       "      <td>Sentiment140</td>\n",
       "      <td>is so sad for my APL frie...</td>\n",
       "    </tr>\n",
       "    <tr>\n",
       "      <th>1</th>\n",
       "      <td>2</td>\n",
       "      <td>0</td>\n",
       "      <td>Sentiment140</td>\n",
       "      <td>I missed the New Moon trail...</td>\n",
       "    </tr>\n",
       "    <tr>\n",
       "      <th>2</th>\n",
       "      <td>3</td>\n",
       "      <td>1</td>\n",
       "      <td>Sentiment140</td>\n",
       "      <td>omg its already 7:30 :O</td>\n",
       "    </tr>\n",
       "    <tr>\n",
       "      <th>3</th>\n",
       "      <td>4</td>\n",
       "      <td>0</td>\n",
       "      <td>Sentiment140</td>\n",
       "      <td>.. Omgaga. Im sooo  im gunna CRy. I'...</td>\n",
       "    </tr>\n",
       "    <tr>\n",
       "      <th>4</th>\n",
       "      <td>5</td>\n",
       "      <td>0</td>\n",
       "      <td>Sentiment140</td>\n",
       "      <td>i think mi bf is cheating on me!!!   ...</td>\n",
       "    </tr>\n",
       "    <tr>\n",
       "      <th>...</th>\n",
       "      <td>...</td>\n",
       "      <td>...</td>\n",
       "      <td>...</td>\n",
       "      <td>...</td>\n",
       "    </tr>\n",
       "    <tr>\n",
       "      <th>39995</th>\n",
       "      <td>40007</td>\n",
       "      <td>0</td>\n",
       "      <td>Sentiment140</td>\n",
       "      <td>@AndreaKidd Ouchies, I hope it isn't anything ...</td>\n",
       "    </tr>\n",
       "    <tr>\n",
       "      <th>39996</th>\n",
       "      <td>40008</td>\n",
       "      <td>1</td>\n",
       "      <td>Sentiment140</td>\n",
       "      <td>@AndreaKobayashi It's the best cafe in Asakusa...</td>\n",
       "    </tr>\n",
       "    <tr>\n",
       "      <th>39997</th>\n",
       "      <td>40009</td>\n",
       "      <td>1</td>\n",
       "      <td>Sentiment140</td>\n",
       "      <td>@AndreaKoeln heeey! tonight is the night! no s...</td>\n",
       "    </tr>\n",
       "    <tr>\n",
       "      <th>39998</th>\n",
       "      <td>40010</td>\n",
       "      <td>1</td>\n",
       "      <td>Sentiment140</td>\n",
       "      <td>@AmandaFClark it is when you add the hammock</td>\n",
       "    </tr>\n",
       "    <tr>\n",
       "      <th>39999</th>\n",
       "      <td>40011</td>\n",
       "      <td>0</td>\n",
       "      <td>Sentiment140</td>\n",
       "      <td>@amandafortier  I am so happy with all the fun...</td>\n",
       "    </tr>\n",
       "  </tbody>\n",
       "</table>\n",
       "<p>40000 rows × 4 columns</p>\n",
       "</div>"
      ],
      "text/plain": [
       "       ï»¿ItemID  Sentiment SentimentSource  \\\n",
       "0              1          0    Sentiment140   \n",
       "1              2          0    Sentiment140   \n",
       "2              3          1    Sentiment140   \n",
       "3              4          0    Sentiment140   \n",
       "4              5          0    Sentiment140   \n",
       "...          ...        ...             ...   \n",
       "39995      40007          0    Sentiment140   \n",
       "39996      40008          1    Sentiment140   \n",
       "39997      40009          1    Sentiment140   \n",
       "39998      40010          1    Sentiment140   \n",
       "39999      40011          0    Sentiment140   \n",
       "\n",
       "                                           SentimentText  \n",
       "0                           is so sad for my APL frie...  \n",
       "1                         I missed the New Moon trail...  \n",
       "2                                omg its already 7:30 :O  \n",
       "3                .. Omgaga. Im sooo  im gunna CRy. I'...  \n",
       "4               i think mi bf is cheating on me!!!   ...  \n",
       "...                                                  ...  \n",
       "39995  @AndreaKidd Ouchies, I hope it isn't anything ...  \n",
       "39996  @AndreaKobayashi It's the best cafe in Asakusa...  \n",
       "39997  @AndreaKoeln heeey! tonight is the night! no s...  \n",
       "39998      @AmandaFClark it is when you add the hammock   \n",
       "39999  @amandafortier  I am so happy with all the fun...  \n",
       "\n",
       "[40000 rows x 4 columns]"
      ]
     },
     "execution_count": 5,
     "metadata": {},
     "output_type": "execute_result"
    }
   ],
   "source": [
    "random_tweets_df"
   ]
  },
  {
   "cell_type": "code",
   "execution_count": 6,
   "metadata": {
    "id": "0x7Svia3zEhQ"
   },
   "outputs": [],
   "source": [
    "## Slicing the random tweets to have sentiment == 1 \n",
    "new_rand_df = random_tweets_df[random_tweets_df.Sentiment == 1]\n",
    "new_rand_df.reset_index(inplace=True)"
   ]
  },
  {
   "cell_type": "code",
   "execution_count": 7,
   "metadata": {
    "colab": {
     "base_uri": "https://localhost:8080/"
    },
    "id": "svpDxeLs2h4g",
    "outputId": "4f75e96a-6832-48b0-ed88-053222683d24"
   },
   "outputs": [
    {
     "data": {
      "text/plain": [
       "(20952, 5)"
      ]
     },
     "execution_count": 7,
     "metadata": {},
     "output_type": "execute_result"
    }
   ],
   "source": [
    "new_rand_df.shape"
   ]
  },
  {
   "cell_type": "code",
   "execution_count": 8,
   "metadata": {
    "colab": {
     "base_uri": "https://localhost:8080/",
     "height": 202
    },
    "id": "7GI7998x4QRV",
    "outputId": "6978d03f-d064-4788-9a81-f9adae888a5b"
   },
   "outputs": [
    {
     "data": {
      "text/html": [
       "<div>\n",
       "<style scoped>\n",
       "    .dataframe tbody tr th:only-of-type {\n",
       "        vertical-align: middle;\n",
       "    }\n",
       "\n",
       "    .dataframe tbody tr th {\n",
       "        vertical-align: top;\n",
       "    }\n",
       "\n",
       "    .dataframe thead th {\n",
       "        text-align: right;\n",
       "    }\n",
       "</style>\n",
       "<table border=\"1\" class=\"dataframe\">\n",
       "  <thead>\n",
       "    <tr style=\"text-align: right;\">\n",
       "      <th></th>\n",
       "      <th>index</th>\n",
       "      <th>ï»¿ItemID</th>\n",
       "      <th>Sentiment</th>\n",
       "      <th>SentimentSource</th>\n",
       "      <th>SentimentText</th>\n",
       "    </tr>\n",
       "  </thead>\n",
       "  <tbody>\n",
       "    <tr>\n",
       "      <th>0</th>\n",
       "      <td>2</td>\n",
       "      <td>3</td>\n",
       "      <td>1</td>\n",
       "      <td>Sentiment140</td>\n",
       "      <td>omg its already 7:30 :O</td>\n",
       "    </tr>\n",
       "    <tr>\n",
       "      <th>1</th>\n",
       "      <td>6</td>\n",
       "      <td>7</td>\n",
       "      <td>1</td>\n",
       "      <td>Sentiment140</td>\n",
       "      <td>Juuuuuuuuuuuuuuuuussssst Chillin!!</td>\n",
       "    </tr>\n",
       "    <tr>\n",
       "      <th>2</th>\n",
       "      <td>8</td>\n",
       "      <td>9</td>\n",
       "      <td>1</td>\n",
       "      <td>Sentiment140</td>\n",
       "      <td>handed in my uniform today . i miss you ...</td>\n",
       "    </tr>\n",
       "    <tr>\n",
       "      <th>3</th>\n",
       "      <td>9</td>\n",
       "      <td>10</td>\n",
       "      <td>1</td>\n",
       "      <td>Sentiment140</td>\n",
       "      <td>hmmmm.... i wonder how she my number @-)</td>\n",
       "    </tr>\n",
       "    <tr>\n",
       "      <th>4</th>\n",
       "      <td>11</td>\n",
       "      <td>12</td>\n",
       "      <td>1</td>\n",
       "      <td>Sentiment140</td>\n",
       "      <td>thanks to all the haters up in my face a...</td>\n",
       "    </tr>\n",
       "  </tbody>\n",
       "</table>\n",
       "</div>"
      ],
      "text/plain": [
       "   index  ï»¿ItemID  Sentiment SentimentSource  \\\n",
       "0      2          3          1    Sentiment140   \n",
       "1      6          7          1    Sentiment140   \n",
       "2      8          9          1    Sentiment140   \n",
       "3      9         10          1    Sentiment140   \n",
       "4     11         12          1    Sentiment140   \n",
       "\n",
       "                                       SentimentText  \n",
       "0                            omg its already 7:30 :O  \n",
       "1                 Juuuuuuuuuuuuuuuuussssst Chillin!!  \n",
       "2        handed in my uniform today . i miss you ...  \n",
       "3           hmmmm.... i wonder how she my number @-)  \n",
       "4        thanks to all the haters up in my face a...  "
      ]
     },
     "execution_count": 8,
     "metadata": {},
     "output_type": "execute_result"
    }
   ],
   "source": [
    "new_rand_df.head()"
   ]
  },
  {
   "cell_type": "markdown",
   "metadata": {
    "id": "KG29qc_b4GnB"
   },
   "source": [
    "20952 random tweets with sentiment == 1"
   ]
  },
  {
   "cell_type": "markdown",
   "metadata": {
    "id": "UitvlZ02qZD7"
   },
   "source": [
    "## Data Cleaning-Processing:"
   ]
  },
  {
   "cell_type": "code",
   "execution_count": 10,
   "metadata": {
    "colab": {
     "base_uri": "https://localhost:8080/"
    },
    "id": "ulH3-xX86jPp",
    "outputId": "6a18d284-77fd-4ea9-8221-444251defa2d"
   },
   "outputs": [
    {
     "name": "stdout",
     "output_type": "stream",
     "text": [
      "(24147, 7)\n",
      "(20952, 5)\n"
     ]
    }
   ],
   "source": [
    "print(depressive_tweets_df.shape)\n",
    "print(new_rand_df.shape)"
   ]
  },
  {
   "cell_type": "code",
   "execution_count": 11,
   "metadata": {
    "colab": {
     "base_uri": "https://localhost:8080/",
     "height": 263
    },
    "id": "KX5XBnF5pwZ3",
    "outputId": "edb8aa08-b9ea-4828-c01c-ea9a3bff4875"
   },
   "outputs": [
    {
     "data": {
      "text/html": [
       "<div>\n",
       "<style scoped>\n",
       "    .dataframe tbody tr th:only-of-type {\n",
       "        vertical-align: middle;\n",
       "    }\n",
       "\n",
       "    .dataframe tbody tr th {\n",
       "        vertical-align: top;\n",
       "    }\n",
       "\n",
       "    .dataframe thead th {\n",
       "        text-align: right;\n",
       "    }\n",
       "</style>\n",
       "<table border=\"1\" class=\"dataframe\">\n",
       "  <thead>\n",
       "    <tr style=\"text-align: right;\">\n",
       "      <th></th>\n",
       "      <th>data_type</th>\n",
       "    </tr>\n",
       "  </thead>\n",
       "  <tbody>\n",
       "    <tr>\n",
       "      <th>Unnamed: 0</th>\n",
       "      <td>int64</td>\n",
       "    </tr>\n",
       "    <tr>\n",
       "      <th>tweet.id</th>\n",
       "      <td>int64</td>\n",
       "    </tr>\n",
       "    <tr>\n",
       "      <th>created_at</th>\n",
       "      <td>object</td>\n",
       "    </tr>\n",
       "    <tr>\n",
       "      <th>text</th>\n",
       "      <td>object</td>\n",
       "    </tr>\n",
       "    <tr>\n",
       "      <th>location</th>\n",
       "      <td>object</td>\n",
       "    </tr>\n",
       "    <tr>\n",
       "      <th>retweet</th>\n",
       "      <td>int64</td>\n",
       "    </tr>\n",
       "    <tr>\n",
       "      <th>favorite</th>\n",
       "      <td>int64</td>\n",
       "    </tr>\n",
       "  </tbody>\n",
       "</table>\n",
       "</div>"
      ],
      "text/plain": [
       "           data_type\n",
       "Unnamed: 0     int64\n",
       "tweet.id       int64\n",
       "created_at    object\n",
       "text          object\n",
       "location      object\n",
       "retweet        int64\n",
       "favorite       int64"
      ]
     },
     "execution_count": 11,
     "metadata": {},
     "output_type": "execute_result"
    }
   ],
   "source": [
    "## Check the data type of each column\n",
    "depressive_tweets_df.dtypes.to_frame().rename(columns={0:'data_type'})"
   ]
  },
  {
   "cell_type": "code",
   "execution_count": 12,
   "metadata": {
    "colab": {
     "base_uri": "https://localhost:8080/",
     "height": 202
    },
    "id": "-TigHSsnuLbn",
    "outputId": "dd1f9b0c-cea4-40b0-bf3b-af34023d4de0"
   },
   "outputs": [
    {
     "data": {
      "text/html": [
       "<div>\n",
       "<style scoped>\n",
       "    .dataframe tbody tr th:only-of-type {\n",
       "        vertical-align: middle;\n",
       "    }\n",
       "\n",
       "    .dataframe tbody tr th {\n",
       "        vertical-align: top;\n",
       "    }\n",
       "\n",
       "    .dataframe thead th {\n",
       "        text-align: right;\n",
       "    }\n",
       "</style>\n",
       "<table border=\"1\" class=\"dataframe\">\n",
       "  <thead>\n",
       "    <tr style=\"text-align: right;\">\n",
       "      <th></th>\n",
       "      <th>data_type</th>\n",
       "    </tr>\n",
       "  </thead>\n",
       "  <tbody>\n",
       "    <tr>\n",
       "      <th>index</th>\n",
       "      <td>int64</td>\n",
       "    </tr>\n",
       "    <tr>\n",
       "      <th>ï»¿ItemID</th>\n",
       "      <td>int64</td>\n",
       "    </tr>\n",
       "    <tr>\n",
       "      <th>Sentiment</th>\n",
       "      <td>int64</td>\n",
       "    </tr>\n",
       "    <tr>\n",
       "      <th>SentimentSource</th>\n",
       "      <td>object</td>\n",
       "    </tr>\n",
       "    <tr>\n",
       "      <th>SentimentText</th>\n",
       "      <td>object</td>\n",
       "    </tr>\n",
       "  </tbody>\n",
       "</table>\n",
       "</div>"
      ],
      "text/plain": [
       "                data_type\n",
       "index               int64\n",
       "ï»¿ItemID           int64\n",
       "Sentiment           int64\n",
       "SentimentSource    object\n",
       "SentimentText      object"
      ]
     },
     "execution_count": 12,
     "metadata": {},
     "output_type": "execute_result"
    }
   ],
   "source": [
    "## Check the data type of each column\n",
    "new_rand_df.dtypes.to_frame().rename(columns={0:'data_type'})"
   ]
  },
  {
   "cell_type": "code",
   "execution_count": 13,
   "metadata": {
    "id": "ZHXvHSCan-7_"
   },
   "outputs": [],
   "source": [
    "## Drop unnecessary columns\n",
    "depressive_tweets_df.drop(columns=['Unnamed: 0'], inplace=True)\n",
    "new_rand_df.drop(columns=['ï»¿ItemID', 'index','Sentiment', 'SentimentSource'], inplace=True)"
   ]
  },
  {
   "cell_type": "markdown",
   "metadata": {
    "id": "ZNQQeuXcq0kp"
   },
   "source": [
    "Since we are mostly dealing with the tweets in our datasets, it is not necessary to change the data types at this stage."
   ]
  },
  {
   "cell_type": "code",
   "execution_count": 14,
   "metadata": {
    "colab": {
     "base_uri": "https://localhost:8080/"
    },
    "id": "kyiCOEnSqoGT",
    "outputId": "f36a3141-93e7-41d6-a1bc-79852da21581"
   },
   "outputs": [
    {
     "name": "stdout",
     "output_type": "stream",
     "text": [
      "There are  18190 unique values in  tweet.id\n",
      "There are  18071 unique values in  created_at\n",
      "There are  17107 unique values in  text\n",
      "There are  4648 unique values in  location\n",
      "There are  74 unique values in  retweet\n",
      "There are  159 unique values in  favorite\n"
     ]
    }
   ],
   "source": [
    "## Finding unique values in each column\n",
    "for col in depressive_tweets_df:\n",
    "    print(\"There are \", len(depressive_tweets_df[col].unique()), \"unique values in \", col)"
   ]
  },
  {
   "cell_type": "code",
   "execution_count": 15,
   "metadata": {
    "colab": {
     "base_uri": "https://localhost:8080/"
    },
    "id": "jHMyyyS9u-zm",
    "outputId": "d502e42e-8c34-400d-a6cd-2d1c4e0adabd"
   },
   "outputs": [
    {
     "name": "stdout",
     "output_type": "stream",
     "text": [
      "There are  20952 unique values in  SentimentText\n"
     ]
    }
   ],
   "source": [
    "## Finding unique values in each column\n",
    "for col in new_rand_df:\n",
    "    print(\"There are \", len(new_rand_df[col].unique()), \"unique values in \", col)"
   ]
  },
  {
   "cell_type": "markdown",
   "metadata": {
    "id": "F0cHAHxV6tOR"
   },
   "source": [
    "No duplicates in random tweets dataset"
   ]
  },
  {
   "cell_type": "code",
   "execution_count": 16,
   "metadata": {
    "id": "vDHOTp4yrEWh"
   },
   "outputs": [],
   "source": [
    "## drop duplicate values in tweet.id\n",
    "depressive_tweets_df.drop_duplicates(subset=['tweet.id'], inplace=True)"
   ]
  },
  {
   "cell_type": "code",
   "execution_count": 17,
   "metadata": {
    "id": "E8zCo0WYwibg"
   },
   "outputs": [],
   "source": [
    "depressive_tweets_df.reset_index(inplace=True)"
   ]
  },
  {
   "cell_type": "code",
   "execution_count": 18,
   "metadata": {
    "colab": {
     "base_uri": "https://localhost:8080/"
    },
    "id": "EZ1tY9cgswFs",
    "outputId": "36d59a85-ca66-41c9-9827-d286726532da"
   },
   "outputs": [
    {
     "data": {
      "text/plain": [
       "(18190, 7)"
      ]
     },
     "execution_count": 18,
     "metadata": {},
     "output_type": "execute_result"
    }
   ],
   "source": [
    "depressive_tweets_df.shape"
   ]
  },
  {
   "cell_type": "code",
   "execution_count": 19,
   "metadata": {
    "colab": {
     "base_uri": "https://localhost:8080/",
     "height": 263
    },
    "id": "6R_Awmrusz4O",
    "outputId": "c1a95d6b-dc61-4f15-bd38-5d5e29d8bd61"
   },
   "outputs": [
    {
     "data": {
      "text/html": [
       "<div>\n",
       "<style scoped>\n",
       "    .dataframe tbody tr th:only-of-type {\n",
       "        vertical-align: middle;\n",
       "    }\n",
       "\n",
       "    .dataframe tbody tr th {\n",
       "        vertical-align: top;\n",
       "    }\n",
       "\n",
       "    .dataframe thead th {\n",
       "        text-align: right;\n",
       "    }\n",
       "</style>\n",
       "<table border=\"1\" class=\"dataframe\">\n",
       "  <thead>\n",
       "    <tr style=\"text-align: right;\">\n",
       "      <th></th>\n",
       "      <th>Null values</th>\n",
       "    </tr>\n",
       "  </thead>\n",
       "  <tbody>\n",
       "    <tr>\n",
       "      <th>index</th>\n",
       "      <td>0</td>\n",
       "    </tr>\n",
       "    <tr>\n",
       "      <th>tweet.id</th>\n",
       "      <td>0</td>\n",
       "    </tr>\n",
       "    <tr>\n",
       "      <th>created_at</th>\n",
       "      <td>0</td>\n",
       "    </tr>\n",
       "    <tr>\n",
       "      <th>text</th>\n",
       "      <td>0</td>\n",
       "    </tr>\n",
       "    <tr>\n",
       "      <th>location</th>\n",
       "      <td>6384</td>\n",
       "    </tr>\n",
       "    <tr>\n",
       "      <th>retweet</th>\n",
       "      <td>0</td>\n",
       "    </tr>\n",
       "    <tr>\n",
       "      <th>favorite</th>\n",
       "      <td>0</td>\n",
       "    </tr>\n",
       "  </tbody>\n",
       "</table>\n",
       "</div>"
      ],
      "text/plain": [
       "            Null values\n",
       "index                 0\n",
       "tweet.id              0\n",
       "created_at            0\n",
       "text                  0\n",
       "location           6384\n",
       "retweet               0\n",
       "favorite              0"
      ]
     },
     "execution_count": 19,
     "metadata": {},
     "output_type": "execute_result"
    }
   ],
   "source": [
    "## Find the number of Null values in each columns\n",
    "depressive_tweets_df.isnull().sum().to_frame().rename(columns={0:'Null values'})"
   ]
  },
  {
   "cell_type": "code",
   "execution_count": 20,
   "metadata": {
    "colab": {
     "base_uri": "https://localhost:8080/",
     "height": 78
    },
    "id": "cnN6os-fxxNU",
    "outputId": "17740f6c-0cbe-41e8-b27c-be624aa2cce6"
   },
   "outputs": [
    {
     "data": {
      "text/html": [
       "<div>\n",
       "<style scoped>\n",
       "    .dataframe tbody tr th:only-of-type {\n",
       "        vertical-align: middle;\n",
       "    }\n",
       "\n",
       "    .dataframe tbody tr th {\n",
       "        vertical-align: top;\n",
       "    }\n",
       "\n",
       "    .dataframe thead th {\n",
       "        text-align: right;\n",
       "    }\n",
       "</style>\n",
       "<table border=\"1\" class=\"dataframe\">\n",
       "  <thead>\n",
       "    <tr style=\"text-align: right;\">\n",
       "      <th></th>\n",
       "      <th>Null values</th>\n",
       "    </tr>\n",
       "  </thead>\n",
       "  <tbody>\n",
       "    <tr>\n",
       "      <th>SentimentText</th>\n",
       "      <td>0</td>\n",
       "    </tr>\n",
       "  </tbody>\n",
       "</table>\n",
       "</div>"
      ],
      "text/plain": [
       "               Null values\n",
       "SentimentText            0"
      ]
     },
     "execution_count": 20,
     "metadata": {},
     "output_type": "execute_result"
    }
   ],
   "source": [
    "## Find the number of Null values in each columns\n",
    "new_rand_df.isnull().sum().to_frame().rename(columns={0:'Null values'})"
   ]
  },
  {
   "cell_type": "markdown",
   "metadata": {
    "id": "mZK1ylMTx1Bf"
   },
   "source": [
    "No Null values in random tweets dataset."
   ]
  },
  {
   "cell_type": "code",
   "execution_count": 21,
   "metadata": {
    "id": "TUp4Apyts-ir"
   },
   "outputs": [],
   "source": [
    "## Drop all the columns except index, tweet.id and text\n",
    "new_dep_df = depressive_tweets_df[['text']]"
   ]
  },
  {
   "cell_type": "code",
   "execution_count": 22,
   "metadata": {
    "id": "qFegYxuWqwGZ"
   },
   "outputs": [],
   "source": [
    "## Add label to both datasets (0 is non-depressive and 1 is depressive)\n",
    "new_dep_df['label'] = pd.Series([1 for x in range(len(new_dep_df.index))])\n",
    "new_rand_df['label'] = pd.Series([0 for x in range(len(new_rand_df.index))])"
   ]
  },
  {
   "cell_type": "code",
   "execution_count": 23,
   "metadata": {
    "colab": {
     "base_uri": "https://localhost:8080/",
     "height": 414
    },
    "id": "SEEbTmOvy1md",
    "outputId": "ccebdc4f-6716-4ea0-ca83-34e0bc02cb89"
   },
   "outputs": [
    {
     "data": {
      "text/html": [
       "<div>\n",
       "<style scoped>\n",
       "    .dataframe tbody tr th:only-of-type {\n",
       "        vertical-align: middle;\n",
       "    }\n",
       "\n",
       "    .dataframe tbody tr th {\n",
       "        vertical-align: top;\n",
       "    }\n",
       "\n",
       "    .dataframe thead th {\n",
       "        text-align: right;\n",
       "    }\n",
       "</style>\n",
       "<table border=\"1\" class=\"dataframe\">\n",
       "  <thead>\n",
       "    <tr style=\"text-align: right;\">\n",
       "      <th></th>\n",
       "      <th>text</th>\n",
       "      <th>label</th>\n",
       "    </tr>\n",
       "  </thead>\n",
       "  <tbody>\n",
       "    <tr>\n",
       "      <th>0</th>\n",
       "      <td>Open discussion. Between the Transfer Portal a...</td>\n",
       "      <td>1</td>\n",
       "    </tr>\n",
       "    <tr>\n",
       "      <th>1</th>\n",
       "      <td>Plenty of things are changing in my life and t...</td>\n",
       "      <td>1</td>\n",
       "    </tr>\n",
       "    <tr>\n",
       "      <th>2</th>\n",
       "      <td>I feel a little hopeless. Anyone else? #hopele...</td>\n",
       "      <td>1</td>\n",
       "    </tr>\n",
       "    <tr>\n",
       "      <th>3</th>\n",
       "      <td>Which is more healthy? Hope, or hopelessness? ...</td>\n",
       "      <td>1</td>\n",
       "    </tr>\n",
       "    <tr>\n",
       "      <th>4</th>\n",
       "      <td>So someone tell me how do I get over #HOPELESS...</td>\n",
       "      <td>1</td>\n",
       "    </tr>\n",
       "    <tr>\n",
       "      <th>...</th>\n",
       "      <td>...</td>\n",
       "      <td>...</td>\n",
       "    </tr>\n",
       "    <tr>\n",
       "      <th>18185</th>\n",
       "      <td>Just got banned from a server F #sad</td>\n",
       "      <td>1</td>\n",
       "    </tr>\n",
       "    <tr>\n",
       "      <th>18186</th>\n",
       "      <td>I literally cried during my exam and the cam i...</td>\n",
       "      <td>1</td>\n",
       "    </tr>\n",
       "    <tr>\n",
       "      <th>18187</th>\n",
       "      <td>No one can be happy with a guy like me. That's...</td>\n",
       "      <td>1</td>\n",
       "    </tr>\n",
       "    <tr>\n",
       "      <th>18188</th>\n",
       "      <td>arrived at my house but Am I Home? #deep #sad ...</td>\n",
       "      <td>1</td>\n",
       "    </tr>\n",
       "    <tr>\n",
       "      <th>18189</th>\n",
       "      <td>Being spoken down to rn at @starbucks and reme...</td>\n",
       "      <td>1</td>\n",
       "    </tr>\n",
       "  </tbody>\n",
       "</table>\n",
       "<p>18190 rows × 2 columns</p>\n",
       "</div>"
      ],
      "text/plain": [
       "                                                    text  label\n",
       "0      Open discussion. Between the Transfer Portal a...      1\n",
       "1      Plenty of things are changing in my life and t...      1\n",
       "2      I feel a little hopeless. Anyone else? #hopele...      1\n",
       "3      Which is more healthy? Hope, or hopelessness? ...      1\n",
       "4      So someone tell me how do I get over #HOPELESS...      1\n",
       "...                                                  ...    ...\n",
       "18185               Just got banned from a server F #sad      1\n",
       "18186  I literally cried during my exam and the cam i...      1\n",
       "18187  No one can be happy with a guy like me. That's...      1\n",
       "18188  arrived at my house but Am I Home? #deep #sad ...      1\n",
       "18189  Being spoken down to rn at @starbucks and reme...      1\n",
       "\n",
       "[18190 rows x 2 columns]"
      ]
     },
     "execution_count": 23,
     "metadata": {},
     "output_type": "execute_result"
    }
   ],
   "source": [
    "new_dep_df"
   ]
  },
  {
   "cell_type": "code",
   "execution_count": 24,
   "metadata": {
    "id": "IzFLvq0n7NBq"
   },
   "outputs": [],
   "source": [
    "## Change the column name to be aligned with depressive dataset\n",
    "new_rand_df.rename(columns={'SentimentText': 'text'}, inplace=True)"
   ]
  },
  {
   "cell_type": "code",
   "execution_count": 25,
   "metadata": {
    "colab": {
     "base_uri": "https://localhost:8080/",
     "height": 414
    },
    "id": "SlRhCcYDzMX4",
    "outputId": "20b0e9e6-e3e9-4a55-fb61-d84591967712"
   },
   "outputs": [
    {
     "data": {
      "text/html": [
       "<div>\n",
       "<style scoped>\n",
       "    .dataframe tbody tr th:only-of-type {\n",
       "        vertical-align: middle;\n",
       "    }\n",
       "\n",
       "    .dataframe tbody tr th {\n",
       "        vertical-align: top;\n",
       "    }\n",
       "\n",
       "    .dataframe thead th {\n",
       "        text-align: right;\n",
       "    }\n",
       "</style>\n",
       "<table border=\"1\" class=\"dataframe\">\n",
       "  <thead>\n",
       "    <tr style=\"text-align: right;\">\n",
       "      <th></th>\n",
       "      <th>text</th>\n",
       "      <th>label</th>\n",
       "    </tr>\n",
       "  </thead>\n",
       "  <tbody>\n",
       "    <tr>\n",
       "      <th>0</th>\n",
       "      <td>omg its already 7:30 :O</td>\n",
       "      <td>0</td>\n",
       "    </tr>\n",
       "    <tr>\n",
       "      <th>1</th>\n",
       "      <td>Juuuuuuuuuuuuuuuuussssst Chillin!!</td>\n",
       "      <td>0</td>\n",
       "    </tr>\n",
       "    <tr>\n",
       "      <th>2</th>\n",
       "      <td>handed in my uniform today . i miss you ...</td>\n",
       "      <td>0</td>\n",
       "    </tr>\n",
       "    <tr>\n",
       "      <th>3</th>\n",
       "      <td>hmmmm.... i wonder how she my number @-)</td>\n",
       "      <td>0</td>\n",
       "    </tr>\n",
       "    <tr>\n",
       "      <th>4</th>\n",
       "      <td>thanks to all the haters up in my face a...</td>\n",
       "      <td>0</td>\n",
       "    </tr>\n",
       "    <tr>\n",
       "      <th>...</th>\n",
       "      <td>...</td>\n",
       "      <td>...</td>\n",
       "    </tr>\n",
       "    <tr>\n",
       "      <th>20947</th>\n",
       "      <td>@andreaj27 well, cheers. i have a glass of wat...</td>\n",
       "      <td>0</td>\n",
       "    </tr>\n",
       "    <tr>\n",
       "      <th>20948</th>\n",
       "      <td>@AndreaJo84 Is that right? You're over in Palm...</td>\n",
       "      <td>0</td>\n",
       "    </tr>\n",
       "    <tr>\n",
       "      <th>20949</th>\n",
       "      <td>@AndreaKobayashi It's the best cafe in Asakusa...</td>\n",
       "      <td>0</td>\n",
       "    </tr>\n",
       "    <tr>\n",
       "      <th>20950</th>\n",
       "      <td>@AndreaKoeln heeey! tonight is the night! no s...</td>\n",
       "      <td>0</td>\n",
       "    </tr>\n",
       "    <tr>\n",
       "      <th>20951</th>\n",
       "      <td>@AmandaFClark it is when you add the hammock</td>\n",
       "      <td>0</td>\n",
       "    </tr>\n",
       "  </tbody>\n",
       "</table>\n",
       "<p>20952 rows × 2 columns</p>\n",
       "</div>"
      ],
      "text/plain": [
       "                                                    text  label\n",
       "0                                omg its already 7:30 :O      0\n",
       "1                     Juuuuuuuuuuuuuuuuussssst Chillin!!      0\n",
       "2            handed in my uniform today . i miss you ...      0\n",
       "3               hmmmm.... i wonder how she my number @-)      0\n",
       "4            thanks to all the haters up in my face a...      0\n",
       "...                                                  ...    ...\n",
       "20947  @andreaj27 well, cheers. i have a glass of wat...      0\n",
       "20948  @AndreaJo84 Is that right? You're over in Palm...      0\n",
       "20949  @AndreaKobayashi It's the best cafe in Asakusa...      0\n",
       "20950  @AndreaKoeln heeey! tonight is the night! no s...      0\n",
       "20951      @AmandaFClark it is when you add the hammock       0\n",
       "\n",
       "[20952 rows x 2 columns]"
      ]
     },
     "execution_count": 25,
     "metadata": {},
     "output_type": "execute_result"
    }
   ],
   "source": [
    "new_rand_df"
   ]
  },
  {
   "cell_type": "code",
   "execution_count": 26,
   "metadata": {
    "id": "VlUxZVGy0E8i"
   },
   "outputs": [],
   "source": [
    "## Combine two dataframes together\n",
    "df_all = pd.concat([new_dep_df, new_rand_df], ignore_index=True)"
   ]
  },
  {
   "cell_type": "code",
   "execution_count": 27,
   "metadata": {
    "colab": {
     "base_uri": "https://localhost:8080/",
     "height": 414
    },
    "id": "vpXYWRzq0TM2",
    "outputId": "08e0fede-7370-4762-a23a-32851a7a1a1b"
   },
   "outputs": [
    {
     "data": {
      "text/html": [
       "<div>\n",
       "<style scoped>\n",
       "    .dataframe tbody tr th:only-of-type {\n",
       "        vertical-align: middle;\n",
       "    }\n",
       "\n",
       "    .dataframe tbody tr th {\n",
       "        vertical-align: top;\n",
       "    }\n",
       "\n",
       "    .dataframe thead th {\n",
       "        text-align: right;\n",
       "    }\n",
       "</style>\n",
       "<table border=\"1\" class=\"dataframe\">\n",
       "  <thead>\n",
       "    <tr style=\"text-align: right;\">\n",
       "      <th></th>\n",
       "      <th>text</th>\n",
       "      <th>label</th>\n",
       "    </tr>\n",
       "  </thead>\n",
       "  <tbody>\n",
       "    <tr>\n",
       "      <th>0</th>\n",
       "      <td>Open discussion. Between the Transfer Portal a...</td>\n",
       "      <td>1</td>\n",
       "    </tr>\n",
       "    <tr>\n",
       "      <th>1</th>\n",
       "      <td>Plenty of things are changing in my life and t...</td>\n",
       "      <td>1</td>\n",
       "    </tr>\n",
       "    <tr>\n",
       "      <th>2</th>\n",
       "      <td>I feel a little hopeless. Anyone else? #hopele...</td>\n",
       "      <td>1</td>\n",
       "    </tr>\n",
       "    <tr>\n",
       "      <th>3</th>\n",
       "      <td>Which is more healthy? Hope, or hopelessness? ...</td>\n",
       "      <td>1</td>\n",
       "    </tr>\n",
       "    <tr>\n",
       "      <th>4</th>\n",
       "      <td>So someone tell me how do I get over #HOPELESS...</td>\n",
       "      <td>1</td>\n",
       "    </tr>\n",
       "    <tr>\n",
       "      <th>...</th>\n",
       "      <td>...</td>\n",
       "      <td>...</td>\n",
       "    </tr>\n",
       "    <tr>\n",
       "      <th>39137</th>\n",
       "      <td>@andreaj27 well, cheers. i have a glass of wat...</td>\n",
       "      <td>0</td>\n",
       "    </tr>\n",
       "    <tr>\n",
       "      <th>39138</th>\n",
       "      <td>@AndreaJo84 Is that right? You're over in Palm...</td>\n",
       "      <td>0</td>\n",
       "    </tr>\n",
       "    <tr>\n",
       "      <th>39139</th>\n",
       "      <td>@AndreaKobayashi It's the best cafe in Asakusa...</td>\n",
       "      <td>0</td>\n",
       "    </tr>\n",
       "    <tr>\n",
       "      <th>39140</th>\n",
       "      <td>@AndreaKoeln heeey! tonight is the night! no s...</td>\n",
       "      <td>0</td>\n",
       "    </tr>\n",
       "    <tr>\n",
       "      <th>39141</th>\n",
       "      <td>@AmandaFClark it is when you add the hammock</td>\n",
       "      <td>0</td>\n",
       "    </tr>\n",
       "  </tbody>\n",
       "</table>\n",
       "<p>39142 rows × 2 columns</p>\n",
       "</div>"
      ],
      "text/plain": [
       "                                                    text  label\n",
       "0      Open discussion. Between the Transfer Portal a...      1\n",
       "1      Plenty of things are changing in my life and t...      1\n",
       "2      I feel a little hopeless. Anyone else? #hopele...      1\n",
       "3      Which is more healthy? Hope, or hopelessness? ...      1\n",
       "4      So someone tell me how do I get over #HOPELESS...      1\n",
       "...                                                  ...    ...\n",
       "39137  @andreaj27 well, cheers. i have a glass of wat...      0\n",
       "39138  @AndreaJo84 Is that right? You're over in Palm...      0\n",
       "39139  @AndreaKobayashi It's the best cafe in Asakusa...      0\n",
       "39140  @AndreaKoeln heeey! tonight is the night! no s...      0\n",
       "39141      @AmandaFClark it is when you add the hammock       0\n",
       "\n",
       "[39142 rows x 2 columns]"
      ]
     },
     "execution_count": 27,
     "metadata": {},
     "output_type": "execute_result"
    }
   ],
   "source": [
    "df_all"
   ]
  },
  {
   "cell_type": "code",
   "execution_count": 28,
   "metadata": {
    "id": "8W-U8a9MXe7Y"
   },
   "outputs": [],
   "source": [
    "# Expand Contraction\n",
    "cList = {\n",
    "  \"ain't\": \"am not\",\n",
    "  \"aren't\": \"are not\",\n",
    "  \"can't\": \"cannot\",\n",
    "  \"can't've\": \"cannot have\",\n",
    "  \"'cause\": \"because\",\n",
    "  \"could've\": \"could have\",\n",
    "  \"couldn't\": \"could not\",\n",
    "  \"couldn't've\": \"could not have\",\n",
    "  \"didn't\": \"did not\",\n",
    "  \"doesn't\": \"does not\",\n",
    "  \"don't\": \"do not\",\n",
    "  \"hadn't\": \"had not\",\n",
    "  \"hadn't've\": \"had not have\",\n",
    "  \"hasn't\": \"has not\",\n",
    "  \"haven't\": \"have not\",\n",
    "  \"he'd\": \"he would\",\n",
    "  \"he'd've\": \"he would have\",\n",
    "  \"he'll\": \"he will\",\n",
    "  \"he'll've\": \"he will have\",\n",
    "  \"he's\": \"he is\",\n",
    "  \"how'd\": \"how did\",\n",
    "  \"how'd'y\": \"how do you\",\n",
    "  \"how'll\": \"how will\",\n",
    "  \"how's\": \"how is\",\n",
    "  \"I'd\": \"I would\",\n",
    "  \"I'd've\": \"I would have\",\n",
    "  \"I'll\": \"I will\",\n",
    "  \"I'll've\": \"I will have\",\n",
    "  \"I'm\": \"I am\",\n",
    "  \"I've\": \"I have\",\n",
    "  \"isn't\": \"is not\",\n",
    "  \"it'd\": \"it had\",\n",
    "  \"it'd've\": \"it would have\",\n",
    "  \"it'll\": \"it will\",\n",
    "  \"it'll've\": \"it will have\",\n",
    "  \"it's\": \"it is\",\n",
    "  \"let's\": \"let us\",\n",
    "  \"ma'am\": \"madam\",\n",
    "  \"mayn't\": \"may not\",\n",
    "  \"might've\": \"might have\",\n",
    "  \"mightn't\": \"might not\",\n",
    "  \"mightn't've\": \"might not have\",\n",
    "  \"must've\": \"must have\",\n",
    "  \"mustn't\": \"must not\",\n",
    "  \"mustn't've\": \"must not have\",\n",
    "  \"needn't\": \"need not\",\n",
    "  \"needn't've\": \"need not have\",\n",
    "  \"o'clock\": \"of the clock\",\n",
    "  \"oughtn't\": \"ought not\",\n",
    "  \"oughtn't've\": \"ought not have\",\n",
    "  \"shan't\": \"shall not\",\n",
    "  \"sha'n't\": \"shall not\",\n",
    "  \"shan't've\": \"shall not have\",\n",
    "  \"she'd\": \"she would\",\n",
    "  \"she'd've\": \"she would have\",\n",
    "  \"she'll\": \"she will\",\n",
    "  \"she'll've\": \"she will have\",\n",
    "  \"she's\": \"she is\",\n",
    "  \"should've\": \"should have\",\n",
    "  \"shouldn't\": \"should not\",\n",
    "  \"shouldn't've\": \"should not have\",\n",
    "  \"so've\": \"so have\",\n",
    "  \"so's\": \"so is\",\n",
    "  \"that'd\": \"that would\",\n",
    "  \"that'd've\": \"that would have\",\n",
    "  \"that's\": \"that is\",\n",
    "  \"there'd\": \"there had\",\n",
    "  \"there'd've\": \"there would have\",\n",
    "  \"there's\": \"there is\",\n",
    "  \"they'd\": \"they would\",\n",
    "  \"they'd've\": \"they would have\",\n",
    "  \"they'll\": \"they will\",\n",
    "  \"they'll've\": \"they will have\",\n",
    "  \"they're\": \"they are\",\n",
    "  \"they've\": \"they have\",\n",
    "  \"to've\": \"to have\",\n",
    "  \"wasn't\": \"was not\",\n",
    "  \"we'd\": \"we had\",\n",
    "  \"we'd've\": \"we would have\",\n",
    "  \"we'll\": \"we will\",\n",
    "  \"we'll've\": \"we will have\",\n",
    "  \"we're\": \"we are\",\n",
    "  \"we've\": \"we have\",\n",
    "  \"weren't\": \"were not\",\n",
    "  \"what'll\": \"what will\",\n",
    "  \"what'll've\": \"what will have\",\n",
    "  \"what're\": \"what are\",\n",
    "  \"what's\": \"what is\",\n",
    "  \"what've\": \"what have\",\n",
    "  \"when's\": \"when is\",\n",
    "  \"when've\": \"when have\",\n",
    "  \"where'd\": \"where did\",\n",
    "  \"where's\": \"where is\",\n",
    "  \"where've\": \"where have\",\n",
    "  \"who'll\": \"who will\",\n",
    "  \"who'll've\": \"who will have\",\n",
    "  \"who's\": \"who is\",\n",
    "  \"who've\": \"who have\",\n",
    "  \"why's\": \"why is\",\n",
    "  \"why've\": \"why have\",\n",
    "  \"will've\": \"will have\",\n",
    "  \"won't\": \"will not\",\n",
    "  \"won't've\": \"will not have\",\n",
    "  \"would've\": \"would have\",\n",
    "  \"wouldn't\": \"would not\",\n",
    "  \"wouldn't've\": \"would not have\",\n",
    "  \"y'all\": \"you all\",\n",
    "  \"y'alls\": \"you alls\",\n",
    "  \"y'all'd\": \"you all would\",\n",
    "  \"y'all'd've\": \"you all would have\",\n",
    "  \"y'all're\": \"you all are\",\n",
    "  \"y'all've\": \"you all have\",\n",
    "  \"you'd\": \"you had\",\n",
    "  \"you'd've\": \"you would have\",\n",
    "  \"you'll\": \"you you will\",\n",
    "  \"you'll've\": \"you you will have\",\n",
    "  \"you're\": \"you are\",\n",
    "  \"you've\": \"you have\"\n",
    "}\n",
    "\n",
    "c_re = re.compile('(%s)' % '|'.join(cList.keys()))\n",
    "\n",
    "def expandContractions(text, c_re=c_re):\n",
    "    def replace(match):\n",
    "        return cList[match.group(0)]\n",
    "    return c_re.sub(replace, text)"
   ]
  },
  {
   "cell_type": "code",
   "execution_count": 29,
   "metadata": {
    "id": "J6aURoUBzYTX"
   },
   "outputs": [],
   "source": [
    "## Function to perform stepwise cleaning process\n",
    "def tweets_cleaner(tweets):\n",
    "  cleaned_tweets = []\n",
    "  for tweet in tweets:\n",
    "    tweet = tweet.lower() #lowercase\n",
    "    \n",
    "    # if url links then don't append to avoid news articles\n",
    "    # also check tweet length, save those > 5 \n",
    "    if re.match(\"(\\w+:\\/\\/\\S+)\", tweet) == None and len(tweet) > 5:\n",
    "    \n",
    "      #remove hashtag, @mention, emoji and image URLs\n",
    "      tweet = ' '.join(re.sub(\"(@[A-Za-z0-9]+)|(\\#[A-Za-z0-9]+)|(<Emoji:.*>)|(pic\\.twitter\\.com\\/.*)\", \" \", tweet).split())\n",
    "\n",
    "      #fix weirdly encoded texts\n",
    "      tweet = ftfy.fix_text(tweet)\n",
    "\n",
    "      #expand contraction\n",
    "      tweet = expandContractions(tweet)\n",
    "\n",
    "\n",
    "      #remove punctuation\n",
    "      tweet = ' '.join(re.sub(\"([^0-9A-Za-z \\t])\", \" \", tweet).split())\n",
    "\n",
    "      #stop words and lemmatization\n",
    "      stop_words = set(stopwords.words('english'))\n",
    "      word_tokens = nltk.word_tokenize(tweet)\n",
    "\n",
    "      lemmatizer=WordNetLemmatizer()\n",
    "      filtered_sentence = [lemmatizer.lemmatize(word) for word in word_tokens if not word in stop_words]\n",
    "      # back to string from list\n",
    "      tweet = ' '.join(filtered_sentence) # join words with a space in between them\n",
    "\n",
    "      cleaned_tweets.append(tweet)\n",
    "\n",
    "  return cleaned_tweets\n"
   ]
  },
  {
   "cell_type": "code",
   "execution_count": 30,
   "metadata": {
    "id": "4MZO5RsC88pD"
   },
   "outputs": [],
   "source": [
    "depressive_tweets_arr = [x for x in new_dep_df['text']]\n",
    "random_tweets_arr = [x for x in new_rand_df['text']]\n",
    "X_d = tweets_cleaner(depressive_tweets_arr)\n",
    "X_r = tweets_cleaner(random_tweets_arr)"
   ]
  },
  {
   "cell_type": "code",
   "execution_count": 31,
   "metadata": {
    "id": "OQwpOceO6vW0"
   },
   "outputs": [],
   "source": [
    "## function to obtain adjectives from tweets\n",
    "def getadjectives(tweet):\n",
    "    tweet = nltk.word_tokenize(tweet)  # convert string to tokens\n",
    "    tweet = [word for (word, tag) in pos_tag(tweet)\n",
    "             if tag == \"JJ\"]  # pos_tag module in NLTK library\n",
    "    return \" \".join(tweet)  # join words with a space in between them"
   ]
  },
  {
   "cell_type": "markdown",
   "metadata": {
    "id": "k_3sVFCf8HpG"
   },
   "source": [
    "### Depressive Tweets Exploration"
   ]
  },
  {
   "cell_type": "code",
   "execution_count": 32,
   "metadata": {
    "id": "llP3o6gj-0Ap"
   },
   "outputs": [],
   "source": [
    "## Apply getadjectives function to the processed tweets \n",
    "## Extract all tweets into one long string with each word separate with a \"space\"\n",
    "tweets_long_string = [getadjectives(x) for x in X_d]\n",
    "tweets_long_string = \" \".join(tweets_long_string)"
   ]
  },
  {
   "cell_type": "code",
   "execution_count": 33,
   "metadata": {
    "id": "YlqKvsg7HT2r"
   },
   "outputs": [],
   "source": [
    "## Combine all words in depressive into a list\n",
    "tweets_long_string = [getadjectives(x) for x in X_d]\n",
    "tweets_list=[]\n",
    "for item in tweets_long_string:\n",
    "    item = item.split()\n",
    "    for i in item:\n",
    "        tweets_list.append(i)"
   ]
  },
  {
   "cell_type": "code",
   "execution_count": 34,
   "metadata": {
    "id": "BablBAqDJ0U9"
   },
   "outputs": [],
   "source": [
    "# Use the Built-in Python Collections module to determine Word frequency\n",
    "from collections import Counter\n",
    "counts = Counter(tweets_list)\n",
    "df = pd.DataFrame.from_dict(counts, orient='index').reset_index()\n",
    "df.columns = ['Words', 'Count']\n",
    "df.sort_values(by='Count', ascending=False, inplace=True)"
   ]
  },
  {
   "cell_type": "code",
   "execution_count": 35,
   "metadata": {
    "colab": {
     "base_uri": "https://localhost:8080/",
     "height": 355
    },
    "id": "m0xZ6ESTJ-Xk",
    "outputId": "55972f89-8386-4912-a78e-5f283fa16a54"
   },
   "outputs": [
    {
     "data": {
      "text/html": [
       "<div>\n",
       "<style scoped>\n",
       "    .dataframe tbody tr th:only-of-type {\n",
       "        vertical-align: middle;\n",
       "    }\n",
       "\n",
       "    .dataframe tbody tr th {\n",
       "        vertical-align: top;\n",
       "    }\n",
       "\n",
       "    .dataframe thead th {\n",
       "        text-align: right;\n",
       "    }\n",
       "</style>\n",
       "<table border=\"1\" class=\"dataframe\">\n",
       "  <thead>\n",
       "    <tr style=\"text-align: right;\">\n",
       "      <th></th>\n",
       "      <th>Words</th>\n",
       "      <th>Count</th>\n",
       "    </tr>\n",
       "  </thead>\n",
       "  <tbody>\n",
       "    <tr>\n",
       "      <th>32</th>\n",
       "      <td>mental</td>\n",
       "      <td>1247</td>\n",
       "    </tr>\n",
       "    <tr>\n",
       "      <th>31</th>\n",
       "      <td>good</td>\n",
       "      <td>773</td>\n",
       "    </tr>\n",
       "    <tr>\n",
       "      <th>23</th>\n",
       "      <td>u</td>\n",
       "      <td>720</td>\n",
       "    </tr>\n",
       "    <tr>\n",
       "      <th>9</th>\n",
       "      <td>much</td>\n",
       "      <td>463</td>\n",
       "    </tr>\n",
       "    <tr>\n",
       "      <th>143</th>\n",
       "      <td>new</td>\n",
       "      <td>459</td>\n",
       "    </tr>\n",
       "    <tr>\n",
       "      <th>50</th>\n",
       "      <td>many</td>\n",
       "      <td>417</td>\n",
       "    </tr>\n",
       "    <tr>\n",
       "      <th>19</th>\n",
       "      <td>bad</td>\n",
       "      <td>414</td>\n",
       "    </tr>\n",
       "    <tr>\n",
       "      <th>110</th>\n",
       "      <td>last</td>\n",
       "      <td>386</td>\n",
       "    </tr>\n",
       "    <tr>\n",
       "      <th>60</th>\n",
       "      <td>hard</td>\n",
       "      <td>324</td>\n",
       "    </tr>\n",
       "    <tr>\n",
       "      <th>68</th>\n",
       "      <td>happy</td>\n",
       "      <td>324</td>\n",
       "    </tr>\n",
       "  </tbody>\n",
       "</table>\n",
       "</div>"
      ],
      "text/plain": [
       "      Words  Count\n",
       "32   mental   1247\n",
       "31     good    773\n",
       "23        u    720\n",
       "9      much    463\n",
       "143     new    459\n",
       "50     many    417\n",
       "19      bad    414\n",
       "110    last    386\n",
       "60     hard    324\n",
       "68    happy    324"
      ]
     },
     "execution_count": 35,
     "metadata": {},
     "output_type": "execute_result"
    }
   ],
   "source": [
    "df.head(10)  # Check dataframe first 10 rows"
   ]
  },
  {
   "cell_type": "markdown",
   "metadata": {
    "id": "7LTA5EEh8Ngm"
   },
   "source": [
    "### Random Tweets Exploration\n"
   ]
  },
  {
   "cell_type": "code",
   "execution_count": 36,
   "metadata": {
    "id": "vcSAw5ZE9wnm"
   },
   "outputs": [],
   "source": [
    "## Apply getadjectives function to the processed tweets \n",
    "## Extract all tweets into one long string with each word separate with a \"space\"\n",
    "tweets_long_string_rand = [getadjectives(x) for x in X_r]\n",
    "tweets_long_string_rand = \" \".join(tweets_long_string_rand)"
   ]
  },
  {
   "cell_type": "code",
   "execution_count": 37,
   "metadata": {
    "id": "ij_xGFme_tVA"
   },
   "outputs": [],
   "source": [
    "## Combine all words in depressive into a list\n",
    "tweets_long_string_rand = [getadjectives(x) for x in X_r]\n",
    "tweets_list_rand=[]\n",
    "for item in tweets_long_string_rand:\n",
    "    item = item.split()\n",
    "    for i in item:\n",
    "        tweets_list_rand.append(i)"
   ]
  },
  {
   "cell_type": "code",
   "execution_count": 38,
   "metadata": {
    "id": "HMMr4PEVABYM"
   },
   "outputs": [],
   "source": [
    "## Use the Built-in Python Collections module to determine Word frequency\n",
    "from collections import Counter\n",
    "counts = Counter(tweets_list_rand)\n",
    "df_rand = pd.DataFrame.from_dict(counts, orient='index').reset_index()\n",
    "df_rand.columns = ['Words', 'Count']\n",
    "df_rand.sort_values(by='Count', ascending=False, inplace=True)"
   ]
  },
  {
   "cell_type": "code",
   "execution_count": 39,
   "metadata": {
    "colab": {
     "base_uri": "https://localhost:8080/",
     "height": 355
    },
    "id": "1X7vo1AUAPUG",
    "outputId": "e8b69f83-1d0a-49ba-c4e1-bcd5dc1dadea"
   },
   "outputs": [
    {
     "data": {
      "text/html": [
       "<div>\n",
       "<style scoped>\n",
       "    .dataframe tbody tr th:only-of-type {\n",
       "        vertical-align: middle;\n",
       "    }\n",
       "\n",
       "    .dataframe tbody tr th {\n",
       "        vertical-align: top;\n",
       "    }\n",
       "\n",
       "    .dataframe thead th {\n",
       "        text-align: right;\n",
       "    }\n",
       "</style>\n",
       "<table border=\"1\" class=\"dataframe\">\n",
       "  <thead>\n",
       "    <tr style=\"text-align: right;\">\n",
       "      <th></th>\n",
       "      <th>Words</th>\n",
       "      <th>Count</th>\n",
       "    </tr>\n",
       "  </thead>\n",
       "  <tbody>\n",
       "    <tr>\n",
       "      <th>88</th>\n",
       "      <td>good</td>\n",
       "      <td>1459</td>\n",
       "    </tr>\n",
       "    <tr>\n",
       "      <th>31</th>\n",
       "      <td>u</td>\n",
       "      <td>942</td>\n",
       "    </tr>\n",
       "    <tr>\n",
       "      <th>47</th>\n",
       "      <td>great</td>\n",
       "      <td>636</td>\n",
       "    </tr>\n",
       "    <tr>\n",
       "      <th>8</th>\n",
       "      <td>new</td>\n",
       "      <td>517</td>\n",
       "    </tr>\n",
       "    <tr>\n",
       "      <th>20</th>\n",
       "      <td>happy</td>\n",
       "      <td>440</td>\n",
       "    </tr>\n",
       "    <tr>\n",
       "      <th>89</th>\n",
       "      <td>nice</td>\n",
       "      <td>359</td>\n",
       "    </tr>\n",
       "    <tr>\n",
       "      <th>96</th>\n",
       "      <td>much</td>\n",
       "      <td>299</td>\n",
       "    </tr>\n",
       "    <tr>\n",
       "      <th>7</th>\n",
       "      <td>last</td>\n",
       "      <td>279</td>\n",
       "    </tr>\n",
       "    <tr>\n",
       "      <th>13</th>\n",
       "      <td>ly</td>\n",
       "      <td>253</td>\n",
       "    </tr>\n",
       "    <tr>\n",
       "      <th>5</th>\n",
       "      <td>awesome</td>\n",
       "      <td>245</td>\n",
       "    </tr>\n",
       "  </tbody>\n",
       "</table>\n",
       "</div>"
      ],
      "text/plain": [
       "      Words  Count\n",
       "88     good   1459\n",
       "31        u    942\n",
       "47    great    636\n",
       "8       new    517\n",
       "20    happy    440\n",
       "89     nice    359\n",
       "96     much    299\n",
       "7      last    279\n",
       "13       ly    253\n",
       "5   awesome    245"
      ]
     },
     "execution_count": 39,
     "metadata": {},
     "output_type": "execute_result"
    }
   ],
   "source": [
    "df_rand.head(10)  # Check dataframe first 10 rows"
   ]
  },
  {
   "cell_type": "markdown",
   "metadata": {
    "id": "Rw-5ySNYO7QK"
   },
   "source": [
    "## Data Analysis:"
   ]
  },
  {
   "cell_type": "code",
   "execution_count": 40,
   "metadata": {
    "id": "T2CAp53UO9rC"
   },
   "outputs": [],
   "source": [
    "## distribution of classes for prediction\n",
    "def create_distribution(dataFile):\n",
    "  return sns.countplot(x='label', data=dataFile, palette='hls')"
   ]
  },
  {
   "cell_type": "code",
   "execution_count": 41,
   "metadata": {
    "colab": {
     "base_uri": "https://localhost:8080/",
     "height": 296
    },
    "id": "scONzDT7RrRt",
    "outputId": "a76f2695-7050-4deb-d010-1fe10e82d18f"
   },
   "outputs": [
    {
     "data": {
      "text/plain": [
       "<Axes: xlabel='label', ylabel='count'>"
      ]
     },
     "execution_count": 41,
     "metadata": {},
     "output_type": "execute_result"
    },
    {
     "data": {
      "image/png": "[encoded data removed]",
      "text/plain": [
       "<Figure size 640x480 with 1 Axes>"
      ]
     },
     "metadata": {},
     "output_type": "display_data"
    }
   ],
   "source": [
    "create_distribution(df_all)"
   ]
  },
  {
   "cell_type": "markdown",
   "metadata": {
    "id": "PGUU_n1GSoyl"
   },
   "source": [
    "Depreesive and random (Non-depressive) tweets are almost evenly distributed. "
   ]
  },
  {
   "cell_type": "markdown",
   "metadata": {
    "id": "NDsQ0r4c1m4_"
   },
   "source": [
    "## Cleaning combined dataset and save it"
   ]
  },
  {
   "cell_type": "code",
   "execution_count": 42,
   "metadata": {
    "id": "n7xa-eIw200r"
   },
   "outputs": [],
   "source": [
    "tweets_arr = [x for x in df_all['text']]"
   ]
  },
  {
   "cell_type": "code",
   "execution_count": 43,
   "metadata": {
    "id": "-u58yHXO3nIc"
   },
   "outputs": [],
   "source": [
    "corpus = tweets_cleaner(tweets_arr)"
   ]
  },
  {
   "cell_type": "code",
   "execution_count": 44,
   "metadata": {
    "colab": {
     "base_uri": "https://localhost:8080/"
    },
    "id": "HTn5gHJqGLty",
    "outputId": "a2d6062a-48b3-4448-fc6d-ff267ffd4067"
   },
   "outputs": [
    {
     "data": {
      "text/plain": [
       "['open discussion transfer portal nil become obsolete organization governing body',\n",
       " 'plenty thing changing life life around one thing change',\n",
       " 'feel little hopeless anyone else',\n",
       " 'healthy hope hopelessness',\n",
       " 'someone tell get live world surrounded people help u much better son inability care would likely give hopelessness darkness',\n",
       " 'parent deserves experience indian legal system',\n",
       " 'also look lot like feel like worse place sometimes',\n",
       " 'glad tackling huge professional shortage facing saddened really living post pandemic world palpable every level department system',\n",
       " 'know someone depressed please resolve never ask straightforward response bad situation depression like weather try understand blackness lethargy loneliness going',\n",
       " 'find every hidden grow calm way go beyond mere others']"
      ]
     },
     "execution_count": 44,
     "metadata": {},
     "output_type": "execute_result"
    }
   ],
   "source": [
    "corpus[:10]"
   ]
  },
  {
   "cell_type": "code",
   "execution_count": 45,
   "metadata": {
    "id": "zgMS50Ud04tk"
   },
   "outputs": [],
   "source": [
    "## Adding clean tweets as a new column\n",
    "df_all['clean_text'] = corpus"
   ]
  },
  {
   "cell_type": "markdown",
   "metadata": {
    "id": "hgIt3G9w2vBH"
   },
   "source": [
    "We have to remove those rows with tweets that has been completely deleted in the cleaning process."
   ]
  },
  {
   "cell_type": "code",
   "execution_count": 46,
   "metadata": {
    "id": "UK5ZM4cw2deY"
   },
   "outputs": [],
   "source": [
    "# replace field that's entirely space (or empty) with NaN\n",
    "df_all.replace(r'^\\s*$', np.nan, regex=True, inplace=True)"
   ]
  },
  {
   "cell_type": "code",
   "execution_count": 47,
   "metadata": {
    "colab": {
     "base_uri": "https://localhost:8080/",
     "height": 414
    },
    "id": "rVEPWTah2pmZ",
    "outputId": "0e193d81-dcbe-4934-ca3b-a5cbe6d2e94d"
   },
   "outputs": [
    {
     "data": {
      "text/html": [
       "<div>\n",
       "<style scoped>\n",
       "    .dataframe tbody tr th:only-of-type {\n",
       "        vertical-align: middle;\n",
       "    }\n",
       "\n",
       "    .dataframe tbody tr th {\n",
       "        vertical-align: top;\n",
       "    }\n",
       "\n",
       "    .dataframe thead th {\n",
       "        text-align: right;\n",
       "    }\n",
       "</style>\n",
       "<table border=\"1\" class=\"dataframe\">\n",
       "  <thead>\n",
       "    <tr style=\"text-align: right;\">\n",
       "      <th></th>\n",
       "      <th>text</th>\n",
       "      <th>label</th>\n",
       "      <th>clean_text</th>\n",
       "    </tr>\n",
       "  </thead>\n",
       "  <tbody>\n",
       "    <tr>\n",
       "      <th>67</th>\n",
       "      <td>You are there for them, but they are not there...</td>\n",
       "      <td>1</td>\n",
       "      <td>NaN</td>\n",
       "    </tr>\n",
       "    <tr>\n",
       "      <th>881</th>\n",
       "      <td>Why me? \\r\\n\\r\\n#depression #depressed #sad #c...</td>\n",
       "      <td>1</td>\n",
       "      <td>NaN</td>\n",
       "    </tr>\n",
       "    <tr>\n",
       "      <th>1142</th>\n",
       "      <td>that’s IT! i’m #depressed</td>\n",
       "      <td>1</td>\n",
       "      <td>NaN</td>\n",
       "    </tr>\n",
       "    <tr>\n",
       "      <th>2037</th>\n",
       "      <td>When your #anxiety has #anxiety 😖</td>\n",
       "      <td>1</td>\n",
       "      <td>NaN</td>\n",
       "    </tr>\n",
       "    <tr>\n",
       "      <th>5073</th>\n",
       "      <td>I have #anxiety</td>\n",
       "      <td>1</td>\n",
       "      <td>NaN</td>\n",
       "    </tr>\n",
       "    <tr>\n",
       "      <th>...</th>\n",
       "      <td>...</td>\n",
       "      <td>...</td>\n",
       "      <td>...</td>\n",
       "    </tr>\n",
       "    <tr>\n",
       "      <th>38624</th>\n",
       "      <td>@amyserrata  i can do that</td>\n",
       "      <td>0</td>\n",
       "      <td>NaN</td>\n",
       "    </tr>\n",
       "    <tr>\n",
       "      <th>38730</th>\n",
       "      <td>@anaggh</td>\n",
       "      <td>0</td>\n",
       "      <td>NaN</td>\n",
       "    </tr>\n",
       "    <tr>\n",
       "      <th>38947</th>\n",
       "      <td>@ancesmulles so. when?</td>\n",
       "      <td>0</td>\n",
       "      <td>NaN</td>\n",
       "    </tr>\n",
       "    <tr>\n",
       "      <th>38949</th>\n",
       "      <td>@AnchMorpork ?? ??? ??????? ???????????? &amp;quot...</td>\n",
       "      <td>0</td>\n",
       "      <td>NaN</td>\n",
       "    </tr>\n",
       "    <tr>\n",
       "      <th>39111</th>\n",
       "      <td>@AmandaChalmers i do</td>\n",
       "      <td>0</td>\n",
       "      <td>NaN</td>\n",
       "    </tr>\n",
       "  </tbody>\n",
       "</table>\n",
       "<p>233 rows × 3 columns</p>\n",
       "</div>"
      ],
      "text/plain": [
       "                                                    text  label clean_text\n",
       "67     You are there for them, but they are not there...      1        NaN\n",
       "881    Why me? \\r\\n\\r\\n#depression #depressed #sad #c...      1        NaN\n",
       "1142                           that’s IT! i’m #depressed      1        NaN\n",
       "2037                   When your #anxiety has #anxiety 😖      1        NaN\n",
       "5073                                     I have #anxiety      1        NaN\n",
       "...                                                  ...    ...        ...\n",
       "38624                        @amyserrata  i can do that       0        NaN\n",
       "38730                                           @anaggh       0        NaN\n",
       "38947                            @ancesmulles so. when?       0        NaN\n",
       "38949  @AnchMorpork ?? ??? ??????? ???????????? &quot...      0        NaN\n",
       "39111                              @AmandaChalmers i do       0        NaN\n",
       "\n",
       "[233 rows x 3 columns]"
      ]
     },
     "execution_count": 47,
     "metadata": {},
     "output_type": "execute_result"
    }
   ],
   "source": [
    "df_all[df_all['clean_text'].isnull()]"
   ]
  },
  {
   "cell_type": "code",
   "execution_count": 48,
   "metadata": {
    "id": "3Vo84LjX25-N"
   },
   "outputs": [],
   "source": [
    "## Deleting the rows with nan \n",
    "df_all.dropna(subset=['clean_text'], inplace=True)"
   ]
  },
  {
   "cell_type": "code",
   "execution_count": 49,
   "metadata": {
    "colab": {
     "base_uri": "https://localhost:8080/",
     "height": 48
    },
    "id": "z-P04gFb3EmZ",
    "outputId": "6de58956-e3b6-4308-ef92-e833cda8e2bf"
   },
   "outputs": [
    {
     "data": {
      "text/html": [
       "<div>\n",
       "<style scoped>\n",
       "    .dataframe tbody tr th:only-of-type {\n",
       "        vertical-align: middle;\n",
       "    }\n",
       "\n",
       "    .dataframe tbody tr th {\n",
       "        vertical-align: top;\n",
       "    }\n",
       "\n",
       "    .dataframe thead th {\n",
       "        text-align: right;\n",
       "    }\n",
       "</style>\n",
       "<table border=\"1\" class=\"dataframe\">\n",
       "  <thead>\n",
       "    <tr style=\"text-align: right;\">\n",
       "      <th></th>\n",
       "      <th>text</th>\n",
       "      <th>label</th>\n",
       "      <th>clean_text</th>\n",
       "    </tr>\n",
       "  </thead>\n",
       "  <tbody>\n",
       "  </tbody>\n",
       "</table>\n",
       "</div>"
      ],
      "text/plain": [
       "Empty DataFrame\n",
       "Columns: [text, label, clean_text]\n",
       "Index: []"
      ]
     },
     "execution_count": 49,
     "metadata": {},
     "output_type": "execute_result"
    }
   ],
   "source": [
    "## Double_check for nan\n",
    "df_all[df_all['clean_text'].isnull()]"
   ]
  },
  {
   "cell_type": "code",
   "execution_count": 50,
   "metadata": {
    "id": "AUqtvjn33CTh"
   },
   "outputs": [],
   "source": [
    "## Save cleaned_dataset\n",
    "df_all.to_csv(\"C:\\\\Users\\\\HP\\\\OneDrive\\\\Documents\\\\emotional health monitoring on social media\\\\data\\\\processed\\\\processed_data.csv\",\n",
    "              sep='\\t', encoding='utf-8',index=False)"
   ]
  },
  {
   "cell_type": "code",
   "execution_count": null,
   "metadata": {},
   "outputs": [],
   "source": []
  }
 ],
 "metadata": {
  "colab": {
   "collapsed_sections": [
    "zOWGGVMF7gY2"
   ],
   "name": "data_cleaning_exploration.ipynb",
   "provenance": []
  },
  "kernelspec": {
   "display_name": "Python 3 (ipykernel)",
   "language": "python",
   "name": "python3"
  },
  "language_info": {
   "codemirror_mode": {
    "name": "ipython",
    "version": 3
   },
   "file_extension": ".py",
   "mimetype": "text/x-python",
   "name": "python",
   "nbconvert_exporter": "python",
   "pygments_lexer": "ipython3",
   "version": "3.11.4"
  }
 },
 "nbformat": 4,
 "nbformat_minor": 1
}
